{
  "nbformat": 4,
  "nbformat_minor": 0,
  "metadata": {
    "colab": {
      "provenance": [],
      "authorship_tag": "ABX9TyNs/AuU8++USpQqXaDzDHYE",
      "include_colab_link": true
    },
    "kernelspec": {
      "name": "python3",
      "display_name": "Python 3"
    },
    "language_info": {
      "name": "python"
    }
  },
  "cells": [
    {
      "cell_type": "markdown",
      "metadata": {
        "id": "view-in-github",
        "colab_type": "text"
      },
      "source": [
        "<a href=\"https://colab.research.google.com/github/romario-pereira/DataBase/blob/main/Curso_Python_DIO.ipynb\" target=\"_parent\"><img src=\"https://colab.research.google.com/assets/colab-badge.svg\" alt=\"Open In Colab\"/></a>"
      ]
    },
    {
      "cell_type": "code",
      "source": [
        "##Variaveis constantes ##\n",
        "\n",
        "nome, idade, qntd_filhos = (\"Romario\", 33, 2)\n",
        "\n",
        "print(f'Meu nome é {nome}, tenho {idade} anos e {qntd_filhos} filhos')"
      ],
      "metadata": {
        "id": "nrZoLqjc4I70",
        "colab": {
          "base_uri": "https://localhost:8080/"
        },
        "outputId": "c87284c2-b4c4-4d02-ef34-8bb1ea87f4bb"
      },
      "execution_count": 6,
      "outputs": [
        {
          "output_type": "stream",
          "name": "stdout",
          "text": [
            "Meu nome é Romario, tenho 33 anos e 2 filhos\n"
          ]
        }
      ]
    },
    {
      "cell_type": "code",
      "source": [
        "## Operadores Logicos ##\n",
        "\n",
        "saldo = 1000\n",
        "saque = 250\n",
        "limite = 200\n",
        "conta_especial = True\n",
        "\n",
        "\n",
        "\n",
        "exp = (saldo >= saque and saque <= limite) or (conta_especial and saldo >=saque)\n",
        "\n",
        "print(exp)"
      ],
      "metadata": {
        "id": "nD8jlOiY4RE0",
        "colab": {
          "base_uri": "https://localhost:8080/"
        },
        "outputId": "7259493d-d5dd-4917-e78d-865b2b0d4957"
      },
      "execution_count": 4,
      "outputs": [
        {
          "output_type": "stream",
          "name": "stdout",
          "text": [
            "True\n"
          ]
        }
      ]
    },
    {
      "cell_type": "code",
      "source": [
        "## Condicionais de repetição ##\n",
        "\n",
        "MAIOR_IDADE = 18\n",
        "IDADE_ESPECIAL = 12\n",
        "\n",
        "idade = int(input('Qual a sua idade? '))\n",
        "\n",
        "if idade >= MAIOR_IDADE:\n",
        "    print('Ok, pode tirar a CNH')\n",
        "elif idade >= IDADE_ESPECIAL and idade < MAIOR_IDADE:\n",
        "    print('Pode fazer aula terioca, mas não aula pratica')\n",
        "else:\n",
        "    print('Não é permitido tirar a CNH')"
      ],
      "metadata": {
        "id": "5pvQ8py14iGN",
        "colab": {
          "base_uri": "https://localhost:8080/"
        },
        "outputId": "f31b036c-8936-48fe-afc7-0b313d7feef5"
      },
      "execution_count": 5,
      "outputs": [
        {
          "output_type": "stream",
          "name": "stdout",
          "text": [
            "Qual a sua idade? 20\n",
            "Ok, pode tirar a CNH\n"
          ]
        }
      ]
    },
    {
      "cell_type": "code",
      "source": [
        "## Estrturas Condicionais Aninhadas ##\n",
        "\n",
        "conta_normal = False\n",
        "conta_universitaria = False\n",
        "\n",
        "saldo = 2000\n",
        "cheque_especial = 500\n",
        "saque = 300\n",
        "\n",
        "if conta_normal:\n",
        "    if saque <= saldo:\n",
        "        print('Saque realizado com sucesso')\n",
        "\n",
        "    elif saque <= (saldo + cheque_especial):\n",
        "        print('Saque realizado utilizando cheque especial!')\n",
        "\n",
        "    else:\n",
        "        print('saldo Insufuciente.')\n",
        "\n",
        "elif conta_universitaria:\n",
        "    if saque <= saldo:\n",
        "        print('Saque realizado com sucesso')\n",
        "    else:\n",
        "        print('saldo Insufuciente.')\n",
        "\n",
        "\n",
        "############## CONDICIONAL TERNARIA ##############\n",
        "status = \"Sucesso\" if saldo >= saque else \"Falha\"\n",
        "\n",
        "print(f\" {status} ao realizar o saque\")"
      ],
      "metadata": {
        "id": "I60kmXQe5DVu",
        "colab": {
          "base_uri": "https://localhost:8080/"
        },
        "outputId": "9a3cf9a2-a723-4507-9dac-781fd06bd675"
      },
      "execution_count": 18,
      "outputs": [
        {
          "output_type": "stream",
          "name": "stdout",
          "text": [
            " Sucesso ao realizar o saque\n"
          ]
        }
      ]
    },
    {
      "cell_type": "code",
      "source": [
        "## Estrutura de repetição FOR ##\n",
        "\n",
        "texto = input(\"Informe um texto: \")\n",
        "VOGAIS = \"AEIOU\"\n",
        "\n",
        "#Utilizando um exemplo iterável\n",
        "for letra in texto:\n",
        "    if letra.upper() in VOGAIS:\n",
        "        print(letra, end=\"\")\n",
        "else:\n",
        "    print()\n",
        "\n",
        "#Utilizando a função Range\n",
        "for numero in range (0, 71, 7):\n",
        "    print(numero, end=\" \")"
      ],
      "metadata": {
        "id": "MNLfEtfF5vZ5",
        "colab": {
          "base_uri": "https://localhost:8080/"
        },
        "outputId": "9923ef1b-7608-4c96-d44c-22cd5b665fe0"
      },
      "execution_count": 3,
      "outputs": [
        {
          "output_type": "stream",
          "name": "stdout",
          "text": [
            "Informe um texto: ROMA\n",
            "OA\n",
            "0 7 14 21 28 35 42 49 56 63 70 "
          ]
        }
      ]
    },
    {
      "cell_type": "code",
      "source": [
        "## Estrutura de repetição WHILE ##\n",
        "\n",
        "while True:\n",
        "    numero = int(input('Informe um numero: '))\n",
        "\n",
        "    if numero == 10:\n",
        "        break\n",
        "    if numero % 2 == 0:\n",
        "        continue\n",
        "    0"
      ],
      "metadata": {
        "id": "lv0t8F_u3W17",
        "colab": {
          "base_uri": "https://localhost:8080/"
        },
        "outputId": "30e26eb1-9d5c-4d98-d123-61cc4517531e"
      },
      "execution_count": null,
      "outputs": [
        {
          "name": "stdout",
          "output_type": "stream",
          "text": [
            "Informe um numero: 9\n",
            "Informe um numero: 6\n",
            "Informe um numero: 11\n",
            "Informe um numero: 2\n",
            "Informe um numero: 1\n",
            "Informe um numero: 0\n",
            "Informe um numero: 00\n",
            "Informe um numero: 10\n"
          ]
        }
      ]
    },
    {
      "cell_type": "markdown",
      "source": [
        "# Trabalhando com Strigs"
      ],
      "metadata": {
        "id": "Dzw1gm2Q622f"
      }
    },
    {
      "cell_type": "code",
      "source": [
        "#Ajustando tamanho do texto\n",
        "nome = \"RoMaRiO\"\n",
        "\n",
        "print(nome)\n",
        "\n",
        "print(nome.upper()) # transforma tudo em maiusculo\n",
        "print(nome.lower()) # transforma tudo em minusculo\n",
        "print(nome.title()) # transforma 1° letra em maiuscúlo e restante minusculo"
      ],
      "metadata": {
        "colab": {
          "base_uri": "https://localhost:8080/"
        },
        "id": "OVHNwc2i60If",
        "outputId": "9818e049-c021-4dfb-b5b8-79cc43b2ce4a"
      },
      "execution_count": 2,
      "outputs": [
        {
          "output_type": "stream",
          "name": "stdout",
          "text": [
            "RoMaRiO\n",
            "ROMARIO\n",
            "romario\n",
            "Romario\n"
          ]
        }
      ]
    },
    {
      "cell_type": "code",
      "source": [
        "#Removendo espeços em branco\n",
        "\n",
        "texto = \"  Olá Mundo!  \"\n",
        "\n",
        "print(texto)\n",
        "print(texto.strip()) #remove todos os espaços(LD e LE)\n",
        "print(texto.rstrip()) #remove os espaços(LD)\n",
        "print(texto.lstrip()) #remove os espaços(LE)\n",
        "\n"
      ],
      "metadata": {
        "colab": {
          "base_uri": "https://localhost:8080/"
        },
        "id": "nYM0ZHf67D1X",
        "outputId": "fc651f7a-78e8-415f-871e-41ec5204d773"
      },
      "execution_count": 1,
      "outputs": [
        {
          "output_type": "stream",
          "name": "stdout",
          "text": [
            "  Olá Mundo!  \n",
            "Olá Mundo!\n",
            "  Olá Mundo!\n",
            "Olá Mundo!  \n"
          ]
        }
      ]
    },
    {
      "cell_type": "code",
      "source": [
        "\n",
        "menu = \"Python\"\n",
        "\n",
        "print(\"####\" + menu + \"####\")\n",
        "print(menu.center(14))\n",
        "print(menu.center(14, \"#\"))\n",
        "print(\"-\".join(menu))"
      ],
      "metadata": {
        "colab": {
          "base_uri": "https://localhost:8080/"
        },
        "id": "geTTLqIX7H-i",
        "outputId": "7093bc94-28bb-4907-a09a-4d2ff12311c2"
      },
      "execution_count": null,
      "outputs": [
        {
          "output_type": "stream",
          "name": "stdout",
          "text": [
            "####Python####\n",
            "    Python    \n",
            "####Python####\n",
            "P-y-t-h-o-n\n"
          ]
        }
      ]
    },
    {
      "cell_type": "code",
      "execution_count": 7,
      "metadata": {
        "colab": {
          "base_uri": "https://localhost:8080/"
        },
        "id": "0IqfXsGM2siZ",
        "outputId": "98d0b843-064d-4812-a528-932487abec60"
      },
      "outputs": [
        {
          "output_type": "stream",
          "name": "stdout",
          "text": [
            "Olá me chamo Romario, tenho 33 anos e minha profissão é Programador, utilizando a linguagem Python. \n",
            "Olá me chamo Romario, tenho 33 anos e minha profissão é Programador, utilizando a linguagem Python\n",
            "Olá me chamo Romario, tenho 33 anos e minha profissão é Programador, utilizando a linguagem Romario\n",
            "Olá me chamo Romario, tenho 33 anos e minha profissão é Programador, utilizando a linguagem Python.\n"
          ]
        }
      ],
      "source": [
        "##String_Interpolação de Variáveis##\n",
        "\n",
        "## %s para STRING - %f para valores Flutuantes e %d para valores INTEIROS\n",
        "\n",
        "nome = \"Romario\"\n",
        "idade = 33\n",
        "profissao = \"Programador\"\n",
        "linguagem = \"Python\"\n",
        "\n",
        "\n",
        "## Old Style\n",
        "print(\"Olá me chamo %s, tenho %d anos e minha profissão é %s, utilizando a linguagem %s. \" % (nome, idade, profissao, linguagem))\n",
        "\n",
        "## Metodo Format\n",
        "print(\"Olá me chamo {}, tenho {} anos e minha profissão é {}, utilizando a linguagem {}\" .format (nome, idade, profissao, linguagem))\n",
        "## Metodo Format\n",
        "print(\"Olá me chamo {0}, tenho {1} anos e minha profissão é {2}, utilizando a linguagem {0}\" .format (nome, idade, profissao, linguagem))\n",
        "\n",
        "## f-string = Mais usado##\n",
        "print(f\"Olá me chamo {nome}, tenho {idade} anos e minha profissão é {profissao}, utilizando a linguagem {linguagem}.\")\n",
        "\n"
      ]
    },
    {
      "cell_type": "code",
      "source": [
        "nota = 9.15369\n",
        "\n",
        "print(f\"{nota:.2f}\")"
      ],
      "metadata": {
        "colab": {
          "base_uri": "https://localhost:8080/"
        },
        "id": "ODleYvevDrzj",
        "outputId": "edbdb866-de78-4d34-aa41-a94277b9a2ab"
      },
      "execution_count": 10,
      "outputs": [
        {
          "output_type": "stream",
          "name": "stdout",
          "text": [
            "9.15\n"
          ]
        }
      ]
    },
    {
      "cell_type": "markdown",
      "source": [
        "###DESAFIO\n",
        "O microblog Twitter é conhecido por limitar as postagens em 140 caracteres. Conferir se um texto vai caber em um tuíte é sua tarefa.\n",
        "\n",
        "Entrada\n",
        "A entrada é uma linha de texto T (1 ≤ |T| ≤ 500).\n",
        "\n",
        "Saída\n",
        "A saída é dada em uma única linha. Ela deve ser \"TWEET\" (sem as aspas) se a linha de texto T tem até 140 caracteres. Se T tem mais de 140 caracteres, a saída deve ser \"MUTE\".\n",
        "\n",
        ""
      ],
      "metadata": {
        "id": "K7Pbul4IYHWy"
      }
    },
    {
      "cell_type": "code",
      "source": [
        "T = input(\"digite um texto: \")\n",
        "\n",
        "cont_letras = len(T)\n",
        "\n",
        "if cont_letras > 140:\n",
        "  print(\"MUTE\")\n",
        "else:\n",
        "  print(\"tweet\")\n",
        "\n",
        "\n"
      ],
      "metadata": {
        "id": "MmE19YbDG7zV",
        "colab": {
          "base_uri": "https://localhost:8080/"
        },
        "outputId": "7e435979-18bc-4528-bd6c-e6833bd64040"
      },
      "execution_count": 26,
      "outputs": [
        {
          "output_type": "stream",
          "name": "stdout",
          "text": [
            "digite um texto: kkkkkkkkkkkkkkkkkkkkkkkkkkkkkkkkkkkkkkkkkkkkkkkkkkkkkkkkkkkkkkkkkkkkkkkkkkkkkkkkkkkkkkkkkkkkkkkkkkkkkkkkkkkkkkkkkkkkkkkkkkkkkkkkkkkkkkkkkkkkkkkkkkkkkkkkkkkkkkkkkkkkkkkkkkkkkkkkkkkkkkkkkkkkkkkkkkkkkkkkkkkkkkkkkkkkkkkkkkkkkkkkkkkkkkkkkkkkkkkkkkkkkkkkkkkkkkkkkkkkkkkkkkkkkkkkkkkkkkkkkkkkkkkkkkkkkkkkkkkkkkkkkkkkkkkkkkkkkkkkkkkkkkkkkkkkkkkkkkkkkkkkkkkkkkkkkkkkkkkkkkkkkkkkkk\n",
            "MUTE\n"
          ]
        }
      ]
    },
    {
      "cell_type": "markdown",
      "source": [
        "###Desafio\n",
        "Leia um valor inteiro entre 1 e 12, inclusive. Correspondente a este valor, deve ser apresentado como resposta o mês do ano por extenso, em inglês, com a primeira letra maiúscula.\n",
        "\n",
        "Entrada\n",
        "A entrada contém um único valor inteiro.\n",
        "\n",
        "Saída\n",
        "Imprima por extenso o nome do mês correspondente ao número existente na entrada, com a primeira letra em maiúscula."
      ],
      "metadata": {
        "id": "iTuKyr8cXo2q"
      }
    },
    {
      "cell_type": "code",
      "source": [
        "# Solicita ao usuário que digite um número de 1 a 12\n",
        "numero = int(input(\"Digite um número de 1 a 12: \"))\n",
        "\n",
        "# Verifica se o número está no intervalo de 1 a 12\n",
        "if 1 <= numero <= 12:\n",
        "    # Cria uma lista com os nomes dos meses\n",
        "    meses = [\n",
        "        \"January\", \"February\", \"March\", \"April\",\n",
        "        \"May\", \"June\", \"July\", \"August\",\n",
        "        \"September\", \"October\", \"November\", \"December\"\n",
        "    ]\n",
        "\n",
        "    # Obtém o nome do mês correspondente ao número digitado\n",
        "    mes_correspondente = meses[numero - 1]\n",
        "\n",
        "    # Exibe o mês correspondente\n",
        "    print(mes_correspondente)\n",
        "else:\n",
        "    print(\"Número fora do intervalo permitido.\")\n",
        "\n"
      ],
      "metadata": {
        "colab": {
          "base_uri": "https://localhost:8080/"
        },
        "id": "RB2QNWELVaez",
        "outputId": "f251e23a-340d-44d2-b924-a272ac0c6a72"
      },
      "execution_count": 4,
      "outputs": [
        {
          "output_type": "stream",
          "name": "stdout",
          "text": [
            "Digite um número de 1 a 12: 8\n",
            "August\n"
          ]
        }
      ]
    },
    {
      "cell_type": "code",
      "source": [
        "numero = int(input())\n",
        "\n",
        "if 1 <= numero <= 12:\n",
        "\n",
        "  meses = [\"January\", \"February\", \"March\", \"April\",\"May\", \"June\", \"July\", \"August\", \"September\", \"October\", \"November\", \"December\"]\n",
        "\n",
        "  mes_correspondente = meses[numero -1]\n",
        "\n",
        "  # Exibe o mês correspondente\n",
        "  print(mes_correspondente)\n",
        "\n",
        "else:\n",
        "  print(\"numero fora do intervalo\")"
      ],
      "metadata": {
        "colab": {
          "base_uri": "https://localhost:8080/"
        },
        "id": "wTgJw-uTRbtH",
        "outputId": "a81b007e-51f5-4a8d-f23d-4d6cad251584"
      },
      "execution_count": 11,
      "outputs": [
        {
          "output_type": "stream",
          "name": "stdout",
          "text": [
            "8\n",
            "August\n"
          ]
        }
      ]
    },
    {
      "cell_type": "code",
      "source": [
        "numero = int(input())\n",
        "\n",
        "if 1 <= numero <= 12:\n",
        "\n",
        "  meses = [\n",
        "        \"January\", \"February\", \"March\", \"April\",\n",
        "        \"May\", \"June\", \"July\", \"August\",\n",
        "        \"September\", \"October\", \"November\", \"December\"\n",
        "    ]\n",
        "\n",
        "  mes_correspondente = meses[numero - 1]\n",
        "\n",
        "  # Exibe o mês correspondente\n",
        "  print(mes_correspondente)\n",
        "\n",
        "else:\n",
        "  print(\"numero fora do intervalo\")"
      ],
      "metadata": {
        "colab": {
          "base_uri": "https://localhost:8080/"
        },
        "id": "B0W_vzX2V0xG",
        "outputId": "519949d3-5a14-4391-8a01-4afa1d9ab5ee"
      },
      "execution_count": 12,
      "outputs": [
        {
          "output_type": "stream",
          "name": "stdout",
          "text": [
            "8\n",
            "August\n"
          ]
        }
      ]
    },
    {
      "cell_type": "markdown",
      "source": [
        "###Desafio\n",
        "Paulinho tem em suas mãos um novo problema. Agora a sua professora lhe pediu que construísse um programa para verificar, à partir de dois valores muito grandes A e B, se B corresponde aos últimos dígitos de A.\n",
        "\n",
        "Entrada\n",
        "A entrada consiste de vários casos de teste. A primeira linha de entrada contém um inteiro N que indica a quantidade de casos de teste. Cada caso de teste consiste de dois valores A e B maiores que zero, cada um deles podendo ter até 1000 dígitos.\n",
        "\n",
        "Saída\n",
        "Para cada caso de entrada imprima uma mensagem indicando se o segundo valor encaixa no primeiro valor, confome exemplo abaixo.\n",
        "\n",
        "\n",
        "Exemplo de Entrada\tExemplo de Saída\n",
        "4\n",
        "56234523485723854755454545478690 78690\n",
        "5434554 543\n",
        "1243 1243\n",
        "54 64545454545454545454545454545454554\n",
        "\n",
        "encaixa\n",
        "nao encaixa\n",
        "encaixa\n",
        "nao encaixa"
      ],
      "metadata": {
        "id": "59wOLzgCcxDP"
      }
    },
    {
      "cell_type": "code",
      "source": [
        "N = int(input())\n",
        "\n",
        "while(N > 0):\n",
        "\n",
        "\n",
        "    #TODO  Verifique, para cada entrada A e B, se os dois valores são compatíveis e imprima se\n",
        "    #\"encaixa\" ou \"não encaixa\" para cada uma das relações N vezes.\n"
      ],
      "metadata": {
        "id": "j-oTLT3Zcu7H"
      },
      "execution_count": null,
      "outputs": []
    },
    {
      "cell_type": "code",
      "source": [
        "# Função que verifica se B corresponde aos últimos dígitos de A\n",
        "def encaixa(A, B):\n",
        "    # Verifica se B é maior que A, o que significa que B não pode ser uma parte de A\n",
        "    if len(B) > len(A):\n",
        "        return \"nao encaixa\"\n",
        "\n",
        "    # Verifica se os últimos dígitos de A correspondem a B\n",
        "    if A[-len(B):] == B:\n",
        "        return \"encaixa\"\n",
        "\n",
        "    return \"nao encaixa\"\n",
        "\n",
        "# Lê o número de casos de teste\n",
        "N = int(input())\n",
        "\n",
        "# Loop através dos casos de teste\n",
        "for _ in range(N):\n",
        "    A = input().strip()\n",
        "    B = input().strip()\n",
        "    resultado = encaixa(A, B)\n",
        "    print(resultado)\n"
      ],
      "metadata": {
        "colab": {
          "base_uri": "https://localhost:8080/",
          "height": 593
        },
        "id": "j7Dp-r_EfkIj",
        "outputId": "7580bf33-32fd-45ca-af40-6061dbf33604"
      },
      "execution_count": 17,
      "outputs": [
        {
          "output_type": "stream",
          "name": "stdout",
          "text": [
            "555\n",
            "666\n",
            "555\n",
            "nao encaixa\n",
            "555\n",
            "555\n",
            "encaixa\n",
            "55\n",
            "66\n",
            "nao encaixa\n"
          ]
        },
        {
          "output_type": "error",
          "ename": "KeyboardInterrupt",
          "evalue": "ignored",
          "traceback": [
            "\u001b[0;31m---------------------------------------------------------------------------\u001b[0m",
            "\u001b[0;31mKeyboardInterrupt\u001b[0m                         Traceback (most recent call last)",
            "\u001b[0;32m<ipython-input-17-fb37e9043fc5>\u001b[0m in \u001b[0;36m<cell line: 17>\u001b[0;34m()\u001b[0m\n\u001b[1;32m     16\u001b[0m \u001b[0;31m# Loop através dos casos de teste\u001b[0m\u001b[0;34m\u001b[0m\u001b[0;34m\u001b[0m\u001b[0m\n\u001b[1;32m     17\u001b[0m \u001b[0;32mfor\u001b[0m \u001b[0m_\u001b[0m \u001b[0;32min\u001b[0m \u001b[0mrange\u001b[0m\u001b[0;34m(\u001b[0m\u001b[0mN\u001b[0m\u001b[0;34m)\u001b[0m\u001b[0;34m:\u001b[0m\u001b[0;34m\u001b[0m\u001b[0;34m\u001b[0m\u001b[0m\n\u001b[0;32m---> 18\u001b[0;31m     \u001b[0mA\u001b[0m \u001b[0;34m=\u001b[0m \u001b[0minput\u001b[0m\u001b[0;34m(\u001b[0m\u001b[0;34m)\u001b[0m\u001b[0;34m.\u001b[0m\u001b[0mstrip\u001b[0m\u001b[0;34m(\u001b[0m\u001b[0;34m)\u001b[0m\u001b[0;34m\u001b[0m\u001b[0;34m\u001b[0m\u001b[0m\n\u001b[0m\u001b[1;32m     19\u001b[0m     \u001b[0mB\u001b[0m \u001b[0;34m=\u001b[0m \u001b[0minput\u001b[0m\u001b[0;34m(\u001b[0m\u001b[0;34m)\u001b[0m\u001b[0;34m.\u001b[0m\u001b[0mstrip\u001b[0m\u001b[0;34m(\u001b[0m\u001b[0;34m)\u001b[0m\u001b[0;34m\u001b[0m\u001b[0;34m\u001b[0m\u001b[0m\n\u001b[1;32m     20\u001b[0m     \u001b[0mresultado\u001b[0m \u001b[0;34m=\u001b[0m \u001b[0mencaixa\u001b[0m\u001b[0;34m(\u001b[0m\u001b[0mA\u001b[0m\u001b[0;34m,\u001b[0m \u001b[0mB\u001b[0m\u001b[0;34m)\u001b[0m\u001b[0;34m\u001b[0m\u001b[0;34m\u001b[0m\u001b[0m\n",
            "\u001b[0;32m/usr/local/lib/python3.10/dist-packages/ipykernel/kernelbase.py\u001b[0m in \u001b[0;36mraw_input\u001b[0;34m(self, prompt)\u001b[0m\n\u001b[1;32m    849\u001b[0m                 \u001b[0;34m\"raw_input was called, but this frontend does not support input requests.\"\u001b[0m\u001b[0;34m\u001b[0m\u001b[0;34m\u001b[0m\u001b[0m\n\u001b[1;32m    850\u001b[0m             )\n\u001b[0;32m--> 851\u001b[0;31m         return self._input_request(str(prompt),\n\u001b[0m\u001b[1;32m    852\u001b[0m             \u001b[0mself\u001b[0m\u001b[0;34m.\u001b[0m\u001b[0m_parent_ident\u001b[0m\u001b[0;34m,\u001b[0m\u001b[0;34m\u001b[0m\u001b[0;34m\u001b[0m\u001b[0m\n\u001b[1;32m    853\u001b[0m             \u001b[0mself\u001b[0m\u001b[0;34m.\u001b[0m\u001b[0m_parent_header\u001b[0m\u001b[0;34m,\u001b[0m\u001b[0;34m\u001b[0m\u001b[0;34m\u001b[0m\u001b[0m\n",
            "\u001b[0;32m/usr/local/lib/python3.10/dist-packages/ipykernel/kernelbase.py\u001b[0m in \u001b[0;36m_input_request\u001b[0;34m(self, prompt, ident, parent, password)\u001b[0m\n\u001b[1;32m    893\u001b[0m             \u001b[0;32mexcept\u001b[0m \u001b[0mKeyboardInterrupt\u001b[0m\u001b[0;34m:\u001b[0m\u001b[0;34m\u001b[0m\u001b[0;34m\u001b[0m\u001b[0m\n\u001b[1;32m    894\u001b[0m                 \u001b[0;31m# re-raise KeyboardInterrupt, to truncate traceback\u001b[0m\u001b[0;34m\u001b[0m\u001b[0;34m\u001b[0m\u001b[0m\n\u001b[0;32m--> 895\u001b[0;31m                 \u001b[0;32mraise\u001b[0m \u001b[0mKeyboardInterrupt\u001b[0m\u001b[0;34m(\u001b[0m\u001b[0;34m\"Interrupted by user\"\u001b[0m\u001b[0;34m)\u001b[0m \u001b[0;32mfrom\u001b[0m \u001b[0;32mNone\u001b[0m\u001b[0;34m\u001b[0m\u001b[0;34m\u001b[0m\u001b[0m\n\u001b[0m\u001b[1;32m    896\u001b[0m             \u001b[0;32mexcept\u001b[0m \u001b[0mException\u001b[0m \u001b[0;32mas\u001b[0m \u001b[0me\u001b[0m\u001b[0;34m:\u001b[0m\u001b[0;34m\u001b[0m\u001b[0;34m\u001b[0m\u001b[0m\n\u001b[1;32m    897\u001b[0m                 \u001b[0mself\u001b[0m\u001b[0;34m.\u001b[0m\u001b[0mlog\u001b[0m\u001b[0;34m.\u001b[0m\u001b[0mwarning\u001b[0m\u001b[0;34m(\u001b[0m\u001b[0;34m\"Invalid Message:\"\u001b[0m\u001b[0;34m,\u001b[0m \u001b[0mexc_info\u001b[0m\u001b[0;34m=\u001b[0m\u001b[0;32mTrue\u001b[0m\u001b[0;34m)\u001b[0m\u001b[0;34m\u001b[0m\u001b[0;34m\u001b[0m\u001b[0m\n",
            "\u001b[0;31mKeyboardInterrupt\u001b[0m: Interrupted by user"
          ]
        }
      ]
    },
    {
      "cell_type": "code",
      "source": [
        "# Função que verifica se B corresponde aos últimos dígitos de A\n",
        "def encaixa(A, B):\n",
        "    # Verifica se B é maior que A, o que significa que B não pode ser uma parte de A\n",
        "    if len(B) > len(A):\n",
        "        return \"nao encaixa\"\n",
        "\n",
        "    # Verifica se os últimos dígitos de A correspondem a B\n",
        "    if A[-len(B):] == B:\n",
        "        return \"encaixa\"\n",
        "\n",
        "    return \"nao encaixa\"\n",
        "\n",
        "# Lê o número de casos de teste\n",
        "N = int(input())\n",
        "\n",
        "# Loop através dos casos de teste\n",
        "for _ in range(N):\n",
        "    A, B = input().split()\n",
        "    resultado = encaixa(A, B)\n",
        "    print(resultado)\n"
      ],
      "metadata": {
        "colab": {
          "base_uri": "https://localhost:8080/",
          "height": 575
        },
        "id": "pz6rWxnYks8q",
        "outputId": "45af9974-5df1-460f-b3e5-af488644b96e"
      },
      "execution_count": 32,
      "outputs": [
        {
          "output_type": "stream",
          "name": "stdout",
          "text": [
            "666\n",
            "555 555\n",
            "encaixa\n",
            "555 66\n",
            "nao encaixa\n",
            "66 5555\n",
            "nao encaixa\n",
            "555 666\n",
            "nao encaixa\n"
          ]
        },
        {
          "output_type": "error",
          "ename": "KeyboardInterrupt",
          "evalue": "ignored",
          "traceback": [
            "\u001b[0;31m---------------------------------------------------------------------------\u001b[0m",
            "\u001b[0;31mKeyboardInterrupt\u001b[0m                         Traceback (most recent call last)",
            "\u001b[0;32m<ipython-input-32-a690d7d29754>\u001b[0m in \u001b[0;36m<cell line: 17>\u001b[0;34m()\u001b[0m\n\u001b[1;32m     16\u001b[0m \u001b[0;31m# Loop através dos casos de teste\u001b[0m\u001b[0;34m\u001b[0m\u001b[0;34m\u001b[0m\u001b[0m\n\u001b[1;32m     17\u001b[0m \u001b[0;32mfor\u001b[0m \u001b[0m_\u001b[0m \u001b[0;32min\u001b[0m \u001b[0mrange\u001b[0m\u001b[0;34m(\u001b[0m\u001b[0mN\u001b[0m\u001b[0;34m)\u001b[0m\u001b[0;34m:\u001b[0m\u001b[0;34m\u001b[0m\u001b[0;34m\u001b[0m\u001b[0m\n\u001b[0;32m---> 18\u001b[0;31m     \u001b[0mA\u001b[0m\u001b[0;34m,\u001b[0m \u001b[0mB\u001b[0m \u001b[0;34m=\u001b[0m \u001b[0minput\u001b[0m\u001b[0;34m(\u001b[0m\u001b[0;34m)\u001b[0m\u001b[0;34m.\u001b[0m\u001b[0msplit\u001b[0m\u001b[0;34m(\u001b[0m\u001b[0;34m)\u001b[0m\u001b[0;34m\u001b[0m\u001b[0;34m\u001b[0m\u001b[0m\n\u001b[0m\u001b[1;32m     19\u001b[0m     \u001b[0mresultado\u001b[0m \u001b[0;34m=\u001b[0m \u001b[0mencaixa\u001b[0m\u001b[0;34m(\u001b[0m\u001b[0mA\u001b[0m\u001b[0;34m,\u001b[0m \u001b[0mB\u001b[0m\u001b[0;34m)\u001b[0m\u001b[0;34m\u001b[0m\u001b[0;34m\u001b[0m\u001b[0m\n\u001b[1;32m     20\u001b[0m     \u001b[0mprint\u001b[0m\u001b[0;34m(\u001b[0m\u001b[0mresultado\u001b[0m\u001b[0;34m)\u001b[0m\u001b[0;34m\u001b[0m\u001b[0;34m\u001b[0m\u001b[0m\n",
            "\u001b[0;32m/usr/local/lib/python3.10/dist-packages/ipykernel/kernelbase.py\u001b[0m in \u001b[0;36mraw_input\u001b[0;34m(self, prompt)\u001b[0m\n\u001b[1;32m    849\u001b[0m                 \u001b[0;34m\"raw_input was called, but this frontend does not support input requests.\"\u001b[0m\u001b[0;34m\u001b[0m\u001b[0;34m\u001b[0m\u001b[0m\n\u001b[1;32m    850\u001b[0m             )\n\u001b[0;32m--> 851\u001b[0;31m         return self._input_request(str(prompt),\n\u001b[0m\u001b[1;32m    852\u001b[0m             \u001b[0mself\u001b[0m\u001b[0;34m.\u001b[0m\u001b[0m_parent_ident\u001b[0m\u001b[0;34m,\u001b[0m\u001b[0;34m\u001b[0m\u001b[0;34m\u001b[0m\u001b[0m\n\u001b[1;32m    853\u001b[0m             \u001b[0mself\u001b[0m\u001b[0;34m.\u001b[0m\u001b[0m_parent_header\u001b[0m\u001b[0;34m,\u001b[0m\u001b[0;34m\u001b[0m\u001b[0;34m\u001b[0m\u001b[0m\n",
            "\u001b[0;32m/usr/local/lib/python3.10/dist-packages/ipykernel/kernelbase.py\u001b[0m in \u001b[0;36m_input_request\u001b[0;34m(self, prompt, ident, parent, password)\u001b[0m\n\u001b[1;32m    893\u001b[0m             \u001b[0;32mexcept\u001b[0m \u001b[0mKeyboardInterrupt\u001b[0m\u001b[0;34m:\u001b[0m\u001b[0;34m\u001b[0m\u001b[0;34m\u001b[0m\u001b[0m\n\u001b[1;32m    894\u001b[0m                 \u001b[0;31m# re-raise KeyboardInterrupt, to truncate traceback\u001b[0m\u001b[0;34m\u001b[0m\u001b[0;34m\u001b[0m\u001b[0m\n\u001b[0;32m--> 895\u001b[0;31m                 \u001b[0;32mraise\u001b[0m \u001b[0mKeyboardInterrupt\u001b[0m\u001b[0;34m(\u001b[0m\u001b[0;34m\"Interrupted by user\"\u001b[0m\u001b[0;34m)\u001b[0m \u001b[0;32mfrom\u001b[0m \u001b[0;32mNone\u001b[0m\u001b[0;34m\u001b[0m\u001b[0;34m\u001b[0m\u001b[0m\n\u001b[0m\u001b[1;32m    896\u001b[0m             \u001b[0;32mexcept\u001b[0m \u001b[0mException\u001b[0m \u001b[0;32mas\u001b[0m \u001b[0me\u001b[0m\u001b[0;34m:\u001b[0m\u001b[0;34m\u001b[0m\u001b[0;34m\u001b[0m\u001b[0m\n\u001b[1;32m    897\u001b[0m                 \u001b[0mself\u001b[0m\u001b[0;34m.\u001b[0m\u001b[0mlog\u001b[0m\u001b[0;34m.\u001b[0m\u001b[0mwarning\u001b[0m\u001b[0;34m(\u001b[0m\u001b[0;34m\"Invalid Message:\"\u001b[0m\u001b[0;34m,\u001b[0m \u001b[0mexc_info\u001b[0m\u001b[0;34m=\u001b[0m\u001b[0;32mTrue\u001b[0m\u001b[0;34m)\u001b[0m\u001b[0;34m\u001b[0m\u001b[0;34m\u001b[0m\u001b[0m\n",
            "\u001b[0;31mKeyboardInterrupt\u001b[0m: Interrupted by user"
          ]
        }
      ]
    },
    {
      "cell_type": "markdown",
      "source": [
        "## Criando um Sistema Bancário com Python"
      ],
      "metadata": {
        "id": "bKmJjymQtMrV"
      }
    },
    {
      "cell_type": "code",
      "source": [
        "menu = \"\"\"\"\n",
        "######################### MENU #########################\n",
        "\n",
        "                  [1] DEPOSITAR\n",
        "                  [2] SACAR\n",
        "                  [3] EXTRATO\n",
        "                  [0] SAIR\n",
        "\n",
        "########################################################\n",
        "\"\"\"\n",
        "\n",
        "saldo = 1000\n",
        "limite = 500\n",
        "extrato = \"\"\n",
        "numero_saque = 0\n",
        "LIMITE_SAQUE = 3\n",
        "\n",
        "while True:\n",
        "\n",
        "  opcao = int(input(menu))\n",
        "\n",
        "  if opcao == 1:\n",
        "    valor_deposito = float(input(\"Digite o valor para depositar. R$\"))\n",
        "    if valor_deposito > 0:\n",
        "      valor_deposito += saldo\n",
        "      extrato += f\"Depósito: R${valor_deposito:.2f}\\n\"\n",
        "      print(f\"Seu deposito de R${valor_deposito}, foi realizado com sucesso.\")\n",
        "    else:\n",
        "      print(\"Valor inválido. Deposite um valor maior que 0. \")\n",
        "\n",
        "\n",
        "  elif opcao == 2:\n",
        "    valor_saque = float(input(\"Digite o valor desejado para sacar. R$\"))\n",
        "\n",
        "    excedeu_saldo = valor_saque > saldo\n",
        "    excedeu_limite = valor_saque > limite\n",
        "    excedeu_saque = numero_saque >= LIMITE_SAQUE\n",
        "\n",
        "\n",
        "    if excedeu_saldo:\n",
        "      print(\"Saldo insuficiente\")\n",
        "\n",
        "    elif excedeu_limite:\n",
        "      print(f\"O valor máximo para sacar é R${limite}\")\n",
        "\n",
        "    elif excedeu_saque:\n",
        "      print(\"Número máximo de saques excedido\")\n",
        "\n",
        "    elif valor_saque > 0:\n",
        "      saldo -= valor_saque\n",
        "      extrato += f\"Saque: R${valor_saque:.2f}\\n\"\n",
        "      numero_saque += 1\n",
        "      print(f\"Saque no valor de R${valor_saque}, realizado com sucesso\")\n",
        "\n",
        "    else:\n",
        "      print(\"O valor informado é inválido\")\n",
        "\n",
        "\n",
        "  elif opcao == 3:\n",
        "    print(\"\\n###############Extrato###############\")\n",
        "    print(\"Não foram realizadas movimentações.\" if not extrato else extrato)\n",
        "    print(f\"\\n saldo: R$ {saldo:.2f}\")\n",
        "    print(\"#####################################\")\n",
        "\n",
        "\n",
        "  elif opcao == 0:\n",
        "    break\n",
        "\n",
        "  else:\n",
        "    print(\"Operação inválida\")\n",
        "\n",
        "\n"
      ],
      "metadata": {
        "id": "CcqfguyutUeP"
      },
      "execution_count": null,
      "outputs": []
    }
  ]
}